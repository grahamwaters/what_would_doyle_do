{
 "cells": [
  {
   "cell_type": "code",
   "execution_count": null,
   "metadata": {},
   "outputs": [],
   "source": [
    "import pandas as pd\n",
    "import numpy as np\n",
    "import matplotlib.pyplot as plt"
   ]
  },
  {
   "cell_type": "markdown",
   "metadata": {},
   "source": [
    "As the analysis runs in the background, you can see the progress in the terminal window. When the analysis is complete, you can see the results in the Jupyter notebook. The results are displayed in the form of a table.\n",
    "\n"
   ]
  },
  {
   "cell_type": "markdown",
   "metadata": {},
   "source": [
    "Let's create some data visualizations that show each book based on certain metrics that can be tweaked as parameters to a data visualization function called `plot_books`."
   ]
  },
  {
   "cell_type": "code",
   "execution_count": null,
   "metadata": {},
   "outputs": [],
   "source": [
    "import hvplot.pandas # noqa: adds hvplot method to pandas objects\n",
    "import holoviews as hv\n",
    "\n",
    "df = pd.read_csv('data/processed/processed.csv', index_col=0)\n",
    "\n",
    "df.hvplot.scatter(x='longitude', y='latitude', rasterize=True, cnorm='eq_hist', dynspread=True)\n"
   ]
  }
 ],
 "metadata": {
  "kernelspec": {
   "display_name": "Python 3.9.6 ('base')",
   "language": "python",
   "name": "python3"
  },
  "language_info": {
   "name": "python",
   "version": "3.9.6"
  },
  "orig_nbformat": 4,
  "vscode": {
   "interpreter": {
    "hash": "6e8cf12211551e1ecfb7b84827bd23b348fb076393a508e20e995a8149682546"
   }
  }
 },
 "nbformat": 4,
 "nbformat_minor": 2
}
