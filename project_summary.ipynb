{
 "cells": [
  {
   "cell_type": "code",
   "execution_count": null,
   "metadata": {},
   "outputs": [],
   "source": [
    "import rich\n",
    "from rich import print\n",
    "from rich.console import Console\n",
    "from rich.table import Table\n",
    "from rich.progress import track\n",
    "\n",
    "import pandas as pd"
   ]
  },
  {
   "cell_type": "code",
   "execution_count": null,
   "metadata": {},
   "outputs": [
    {
     "ename": "",
     "evalue": "",
     "output_type": "error",
     "traceback": [
      "\u001b[1;31mFailed to start the Kernel. \n",
      "\u001b[1;31mKernel base (Python 3.9.6) is not usable. Check the Jupyter output tab for more information. \n",
      "View Jupyter <a href='command:jupyter.viewOutput'>log</a> for further details."
     ]
    }
   ],
   "source": [
    "# Let's look at our file structure and see what we have using the rich library\n",
    "console = Console()\n",
    "console.print(\"File Structure\", style=\"bold red\")\n",
    "console.print(\"├── data\", style=\"bold blue\")\n",
    "console.print(\"│   ├── external\", style=\"bold blue\")\n",
    "console.print(\"│   ├── interim\", style=\"bold blue\")\n",
    "console.print(\"│   ├── processed\", style=\"bold blue\")\n",
    "console.print(\"│   └── raw\", style=\"bold blue\")\n",
    "console.print(\"├── docs\", style=\"bold blue\")\n",
    "console.print(\"├── models\", style=\"bold blue\")\n",
    "console.print(\"├── notebooks\", style=\"bold blue\")\n",
    "console.print(\"├── references\", style=\"bold blue\")\n",
    "console.print(\"├── reports\", style=\"bold blue\")\n",
    "console.print(\"├── requirements.txt\", style=\"bold blue\")\n",
    "console.print(\"├── setup.py\", style=\"bold blue\")\n",
    "console.print(\"└── src\", style=\"bold blue\")\n",
    "console.print(\"    ├── __init__.py\", style=\"bold blue\")\n",
    "console.print(\"    ├── data\", style=\"bold blue\")\n",
    "console.print(\"    │   ├── __init__.py\", style=\"bold blue\")\n",
    "console.print(\"    │   ├── make_dataset.py\", style=\"bold blue\")\n",
    "console.print(\"    │   └── process_dataset.py\", style=\"bold blue\")\n",
    "console.print(\"    ├── features\", style=\"bold blue\")\n",
    "console.print(\"    │   ├── __init__.py\", style=\"bold blue\")\n",
    "console.print(\"    │   ├── build_features.py\", style=\"bold blue\")\n",
    "console.print(\"    │   └── extract_features.py\", style=\"bold blue\")\n",
    "console.print(\"    ├── models\", style=\"bold blue\")\n",
    "console.print(\"    │   ├── __init__.py\", style=\"bold blue\")\n",
    "console.print(\"    │   ├── train_model.py\", style=\"bold blue\")\n",
    "console.print(\"    │   └── predict_model.py\", style=\"bold blue\")\n",
    "console.print(\"    └── visualization\", style=\"bold blue\")\n",
    "console.print(\"        ├── __init__.py\", style=\"bold blue\")\n",
    "console.print(\"        └── visualize.py\", style=\"bold blue\")"
   ]
  }
 ],
 "metadata": {
  "kernelspec": {
   "display_name": "Python 3.9.6 ('base')",
   "language": "python",
   "name": "python3"
  },
  "language_info": {
   "name": "python",
   "version": "3.9.6"
  },
  "orig_nbformat": 4,
  "vscode": {
   "interpreter": {
    "hash": "6e8cf12211551e1ecfb7b84827bd23b348fb076393a508e20e995a8149682546"
   }
  }
 },
 "nbformat": 4,
 "nbformat_minor": 2
}
