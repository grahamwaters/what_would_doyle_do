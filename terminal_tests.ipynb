{
 "cells": [
  {
   "cell_type": "code",
   "execution_count": 1,
   "metadata": {},
   "outputs": [
    {
     "name": "stdout",
     "output_type": "stream",
     "text": [
      "\u001b[36m\u001b[1m                                      CVEC                                      \u001b[0m\u001b[39m\n"
     ]
    }
   ],
   "source": [
    "from colorama import Fore, Back, Style\n",
    "print(Fore.CYAN + Style.BRIGHT + f\"{'CVEC':^80}\".center(80, '#') + Style.RESET_ALL + Fore.RESET)"
   ]
  },
  {
   "cell_type": "code",
   "execution_count": 2,
   "metadata": {},
   "outputs": [
    {
     "name": "stdout",
     "output_type": "stream",
     "text": [
      "Your original data is\n",
      "   a  b\n",
      "0  1  3\n",
      "1  2  4\n",
      "2  3  5\n",
      "\u001b[33m'##::::'##::'#######::'########::'########:'##:::::::::::::'##:::\n",
      " ###::'###:'##.... ##: ##.... ##: ##.....:: ##:::::::::::'####:::\n",
      " ####'####: ##:::: ##: ##:::: ##: ##::::::: ##:::::::::::.. ##:::\n",
      " ## ### ##: ##:::: ##: ##:::: ##: ######::: ##::::::::::::: ##:::\n",
      " ##. #: ##: ##:::: ##: ##:::: ##: ##...:::: ##::::::::::::: ##:::\n",
      " ##:.:: ##: ##:::: ##: ##:::: ##: ##::::::: ##::::::::::::: ##:::\n",
      " ##:::: ##:. #######:: ########:: ########: ########:::::'######:\n",
      "..:::::..:::.......:::........:::........::........::::::......::\n",
      "\u001b[0m\n",
      "****************Training****************\n",
      "Output is\n",
      "   a  b\n",
      "0  0  0\n",
      "1  0  0\n",
      "2  0  0\n",
      "****************Complete****************\n",
      "\u001b[31m'##::::'##::'#######::'########::'########:'##:::::::::::'#######::\n",
      " ###::'###:'##.... ##: ##.... ##: ##.....:: ##::::::::::'##.... ##:\n",
      " ####'####: ##:::: ##: ##:::: ##: ##::::::: ##::::::::::..::::: ##:\n",
      " ## ### ##: ##:::: ##: ##:::: ##: ######::: ##:::::::::::'#######::\n",
      " ##. #: ##: ##:::: ##: ##:::: ##: ##...:::: ##::::::::::'##::::::::\n",
      " ##:.:: ##: ##:::: ##: ##:::: ##: ##::::::: ##:::::::::: ##::::::::\n",
      " ##:::: ##:. #######:: ########:: ########: ########:::: #########:\n",
      "..:::::..:::.......:::........:::........::........:::::.........::\n",
      "\u001b[0m\n",
      "****************Training****************\n",
      "Output is\n",
      "   a  b\n",
      "0  1  3\n",
      "1  2  4\n",
      "2  3  5\n",
      "****************Complete****************\n",
      "\u001b[32m'##::::'##::'#######::'########::'########:'##:::::::::::'#######::\n",
      " ###::'###:'##.... ##: ##.... ##: ##.....:: ##::::::::::'##.... ##:\n",
      " ####'####: ##:::: ##: ##:::: ##: ##::::::: ##::::::::::..::::: ##:\n",
      " ## ### ##: ##:::: ##: ##:::: ##: ######::: ##:::::::::::'#######::\n",
      " ##. #: ##: ##:::: ##: ##:::: ##: ##...:::: ##:::::::::::...... ##:\n",
      " ##:.:: ##: ##:::: ##: ##:::: ##: ##::::::: ##::::::::::'##:::: ##:\n",
      " ##:::: ##:. #######:: ########:: ########: ########::::. #######::\n",
      "..:::::..:::.......:::........:::........::........::::::.......:::\n",
      "\u001b[0m\n",
      "****************Training****************\n",
      "Output is\n",
      "   a   b\n",
      "0  2   6\n",
      "1  4   8\n",
      "2  6  10\n",
      "****************Complete****************\n",
      "\u001b[34m'##::::'##::'#######::'########::'########:'##::::::::::'##::::::::\n",
      " ###::'###:'##.... ##: ##.... ##: ##.....:: ##:::::::::: ##:::'##::\n",
      " ####'####: ##:::: ##: ##:::: ##: ##::::::: ##:::::::::: ##::: ##::\n",
      " ## ### ##: ##:::: ##: ##:::: ##: ######::: ##:::::::::: ##::: ##::\n",
      " ##. #: ##: ##:::: ##: ##:::: ##: ##...:::: ##:::::::::: #########:\n",
      " ##:.:: ##: ##:::: ##: ##:::: ##: ##::::::: ##::::::::::...... ##::\n",
      " ##:::: ##:. #######:: ########:: ########: ########:::::::::: ##::\n",
      "..:::::..:::.......:::........:::........::........:::::::::::..:::\n",
      "\u001b[0m\n",
      "****************Training****************\n",
      "Output is\n",
      "   a   b\n",
      "0  3   9\n",
      "1  6  12\n",
      "2  9  15\n",
      "****************Complete****************\n"
     ]
    }
   ],
   "source": [
    "from termcolor import colored\n",
    "from pyfiglet import Figlet\n",
    "import time\n",
    "import pandas as pd\n",
    "\n",
    "\n",
    "df = pd.DataFrame({'a': [1,2,3],\n",
    "                    'b': [3,4,5]})\n",
    "f = Figlet(font='banner3-D')\n",
    "colors = ['yellow', 'red', 'green', 'blue']\n",
    "print('Your original data is')\n",
    "print(df)\n",
    "for i, color in enumerate(colors):\n",
    "    print(colored(f.renderText(f'Model {i+1}'), color))\n",
    "    print('****************Training****************')\n",
    "    time.sleep(2)\n",
    "    print('Output is')\n",
    "    print(df.multiply(i))\n",
    "    print('****************Complete****************')"
   ]
  },
  {
   "cell_type": "code",
   "execution_count": 7,
   "metadata": {},
   "outputs": [
    {
     "name": "stdout",
     "output_type": "stream",
     "text": [
      "\u001b[31m::::'######::'##::::'##:'########::'######:::::\n",
      ":::'##... ##: ##:::: ##: ##.....::'##... ##::::\n",
      "::: ##:::..:: ##:::: ##: ##::::::: ##:::..:::::\n",
      "::: ##::::::: ##:::: ##: ######::: ##::::::::::\n",
      "::: ##:::::::. ##:: ##:: ##...:::: ##::::::::::\n",
      "::: ##::: ##::. ## ##::: ##::::::: ##::: ##::::\n",
      ":::. ######::::. ###:::: ########:. ######:::::\n",
      "::::......::::::...:::::........:::......::::::\n",
      "\u001b[0m\n"
     ]
    }
   ],
   "source": [
    "print(colored(f.renderText(f' CVEC '), 'red'))"
   ]
  },
  {
   "cell_type": "code",
   "execution_count": 12,
   "metadata": {},
   "outputs": [
    {
     "name": "stdout",
     "output_type": "stream",
     "text": [
      "zsh:1: command not found: figlet\n"
     ]
    }
   ],
   "source": [
    "# use figlet font: 'pagga' to make a title that says 'CVEC'\n",
    "# use colorama to make the title red\n",
    "# use colorama to make the title bold\n",
    "# use colorama to center the title\n",
    "# use colorama to make the title have a background color of blue\n",
    "import colorama\n",
    "from colorama import Fore, Back, Style\n",
    "from pyfiglet import Figlet\n",
    "import time\n",
    "import sys\n",
    "\n",
    "# echo \"Hamburger\" | figlet -f cybermedium\n",
    "# echo \"Hamburger\" | figlet -f pagga\n",
    "\n",
    "# f = Figlet(font='pagga')\n",
    "\n",
    "!figlet -f script.flf 'Chapter 2.2'\n"
   ]
  },
  {
   "cell_type": "code",
   "execution_count": 17,
   "metadata": {},
   "outputs": [
    {
     "ename": "FontNotFound",
     "evalue": "pagga",
     "output_type": "error",
     "traceback": [
      "\u001b[0;31m---------------------------------------------------------------------------\u001b[0m",
      "\u001b[0;31mFontNotFound\u001b[0m                              Traceback (most recent call last)",
      "\u001b[0;32m/var/folders/34/d1tlq3k91hb0lj6x90xpzb4r0000gn/T/ipykernel_86671/2462127966.py\u001b[0m in \u001b[0;36m<cell line: 17>\u001b[0;34m()\u001b[0m\n\u001b[1;32m     15\u001b[0m \u001b[0;31m# echo \"Hamburger\" | figlet -f pagga\u001b[0m\u001b[0;34m\u001b[0m\u001b[0;34m\u001b[0m\u001b[0;34m\u001b[0m\u001b[0m\n\u001b[1;32m     16\u001b[0m \u001b[0;34m\u001b[0m\u001b[0m\n\u001b[0;32m---> 17\u001b[0;31m \u001b[0mf\u001b[0m \u001b[0;34m=\u001b[0m \u001b[0mFiglet\u001b[0m\u001b[0;34m(\u001b[0m\u001b[0mfont\u001b[0m\u001b[0;34m=\u001b[0m\u001b[0;34m'pagga'\u001b[0m\u001b[0;34m)\u001b[0m\u001b[0;34m\u001b[0m\u001b[0;34m\u001b[0m\u001b[0m\n\u001b[0m\u001b[1;32m     18\u001b[0m \u001b[0mprint\u001b[0m\u001b[0;34m(\u001b[0m\u001b[0mStyle\u001b[0m\u001b[0;34m.\u001b[0m\u001b[0mBRIGHT\u001b[0m \u001b[0;34m+\u001b[0m \u001b[0mBack\u001b[0m\u001b[0;34m.\u001b[0m\u001b[0mBLUE\u001b[0m \u001b[0;34m+\u001b[0m \u001b[0mFore\u001b[0m\u001b[0;34m.\u001b[0m\u001b[0mRED\u001b[0m \u001b[0;34m+\u001b[0m \u001b[0mf\u001b[0m\u001b[0;34m.\u001b[0m\u001b[0mrenderText\u001b[0m\u001b[0;34m(\u001b[0m\u001b[0;34m'CVEC'\u001b[0m\u001b[0;34m)\u001b[0m\u001b[0;34m)\u001b[0m\u001b[0;34m\u001b[0m\u001b[0;34m\u001b[0m\u001b[0m\n\u001b[1;32m     19\u001b[0m \u001b[0;31m# use colorama to make the title red\u001b[0m\u001b[0;34m\u001b[0m\u001b[0;34m\u001b[0m\u001b[0;34m\u001b[0m\u001b[0m\n",
      "\u001b[0;32m/Library/Frameworks/Python.framework/Versions/3.9/lib/python3.9/site-packages/pyfiglet/__init__.py\u001b[0m in \u001b[0;36m__init__\u001b[0;34m(self, font, direction, justify, width)\u001b[0m\n\u001b[1;32m    792\u001b[0m         \u001b[0mself\u001b[0m\u001b[0;34m.\u001b[0m\u001b[0m_justify\u001b[0m \u001b[0;34m=\u001b[0m \u001b[0mjustify\u001b[0m\u001b[0;34m\u001b[0m\u001b[0;34m\u001b[0m\u001b[0m\n\u001b[1;32m    793\u001b[0m         \u001b[0mself\u001b[0m\u001b[0;34m.\u001b[0m\u001b[0mwidth\u001b[0m \u001b[0;34m=\u001b[0m \u001b[0mwidth\u001b[0m\u001b[0;34m\u001b[0m\u001b[0;34m\u001b[0m\u001b[0m\n\u001b[0;32m--> 794\u001b[0;31m         \u001b[0mself\u001b[0m\u001b[0;34m.\u001b[0m\u001b[0msetFont\u001b[0m\u001b[0;34m(\u001b[0m\u001b[0;34m)\u001b[0m\u001b[0;34m\u001b[0m\u001b[0;34m\u001b[0m\u001b[0m\n\u001b[0m\u001b[1;32m    795\u001b[0m         \u001b[0mself\u001b[0m\u001b[0;34m.\u001b[0m\u001b[0mengine\u001b[0m \u001b[0;34m=\u001b[0m \u001b[0mFigletRenderingEngine\u001b[0m\u001b[0;34m(\u001b[0m\u001b[0mbase\u001b[0m\u001b[0;34m=\u001b[0m\u001b[0mself\u001b[0m\u001b[0;34m)\u001b[0m\u001b[0;34m\u001b[0m\u001b[0;34m\u001b[0m\u001b[0m\n\u001b[1;32m    796\u001b[0m \u001b[0;34m\u001b[0m\u001b[0m\n",
      "\u001b[0;32m/Library/Frameworks/Python.framework/Versions/3.9/lib/python3.9/site-packages/pyfiglet/__init__.py\u001b[0m in \u001b[0;36msetFont\u001b[0;34m(self, **kwargs)\u001b[0m\n\u001b[1;32m    799\u001b[0m             \u001b[0mself\u001b[0m\u001b[0;34m.\u001b[0m\u001b[0mfont\u001b[0m \u001b[0;34m=\u001b[0m \u001b[0mkwargs\u001b[0m\u001b[0;34m[\u001b[0m\u001b[0;34m'font'\u001b[0m\u001b[0;34m]\u001b[0m\u001b[0;34m\u001b[0m\u001b[0;34m\u001b[0m\u001b[0m\n\u001b[1;32m    800\u001b[0m \u001b[0;34m\u001b[0m\u001b[0m\n\u001b[0;32m--> 801\u001b[0;31m         \u001b[0mself\u001b[0m\u001b[0;34m.\u001b[0m\u001b[0mFont\u001b[0m \u001b[0;34m=\u001b[0m \u001b[0mFigletFont\u001b[0m\u001b[0;34m(\u001b[0m\u001b[0mfont\u001b[0m\u001b[0;34m=\u001b[0m\u001b[0mself\u001b[0m\u001b[0;34m.\u001b[0m\u001b[0mfont\u001b[0m\u001b[0;34m)\u001b[0m\u001b[0;34m\u001b[0m\u001b[0;34m\u001b[0m\u001b[0m\n\u001b[0m\u001b[1;32m    802\u001b[0m \u001b[0;34m\u001b[0m\u001b[0m\n\u001b[1;32m    803\u001b[0m     \u001b[0;32mdef\u001b[0m \u001b[0mgetDirection\u001b[0m\u001b[0;34m(\u001b[0m\u001b[0mself\u001b[0m\u001b[0;34m)\u001b[0m\u001b[0;34m:\u001b[0m\u001b[0;34m\u001b[0m\u001b[0;34m\u001b[0m\u001b[0m\n",
      "\u001b[0;32m/Library/Frameworks/Python.framework/Versions/3.9/lib/python3.9/site-packages/pyfiglet/__init__.py\u001b[0m in \u001b[0;36m__init__\u001b[0;34m(self, font)\u001b[0m\n\u001b[1;32m    124\u001b[0m         \u001b[0mself\u001b[0m\u001b[0;34m.\u001b[0m\u001b[0mchars\u001b[0m \u001b[0;34m=\u001b[0m \u001b[0;34m{\u001b[0m\u001b[0;34m}\u001b[0m\u001b[0;34m\u001b[0m\u001b[0;34m\u001b[0m\u001b[0m\n\u001b[1;32m    125\u001b[0m         \u001b[0mself\u001b[0m\u001b[0;34m.\u001b[0m\u001b[0mwidth\u001b[0m \u001b[0;34m=\u001b[0m \u001b[0;34m{\u001b[0m\u001b[0;34m}\u001b[0m\u001b[0;34m\u001b[0m\u001b[0;34m\u001b[0m\u001b[0m\n\u001b[0;32m--> 126\u001b[0;31m         \u001b[0mself\u001b[0m\u001b[0;34m.\u001b[0m\u001b[0mdata\u001b[0m \u001b[0;34m=\u001b[0m \u001b[0mself\u001b[0m\u001b[0;34m.\u001b[0m\u001b[0mpreloadFont\u001b[0m\u001b[0;34m(\u001b[0m\u001b[0mfont\u001b[0m\u001b[0;34m)\u001b[0m\u001b[0;34m\u001b[0m\u001b[0;34m\u001b[0m\u001b[0m\n\u001b[0m\u001b[1;32m    127\u001b[0m         \u001b[0mself\u001b[0m\u001b[0;34m.\u001b[0m\u001b[0mloadFont\u001b[0m\u001b[0;34m(\u001b[0m\u001b[0;34m)\u001b[0m\u001b[0;34m\u001b[0m\u001b[0;34m\u001b[0m\u001b[0m\n\u001b[1;32m    128\u001b[0m \u001b[0;34m\u001b[0m\u001b[0m\n",
      "\u001b[0;32m/Library/Frameworks/Python.framework/Versions/3.9/lib/python3.9/site-packages/pyfiglet/__init__.py\u001b[0m in \u001b[0;36mpreloadFont\u001b[0;34m(cls, font)\u001b[0m\n\u001b[1;32m    145\u001b[0m                             \u001b[0;32mreturn\u001b[0m \u001b[0mf\u001b[0m\u001b[0;34m.\u001b[0m\u001b[0mread\u001b[0m\u001b[0;34m(\u001b[0m\u001b[0;34m)\u001b[0m\u001b[0;34m.\u001b[0m\u001b[0mdecode\u001b[0m\u001b[0;34m(\u001b[0m\u001b[0;34m'UTF-8'\u001b[0m\u001b[0;34m,\u001b[0m \u001b[0;34m'replace'\u001b[0m\u001b[0;34m)\u001b[0m\u001b[0;34m\u001b[0m\u001b[0;34m\u001b[0m\u001b[0m\n\u001b[1;32m    146\u001b[0m         \u001b[0;32melse\u001b[0m\u001b[0;34m:\u001b[0m\u001b[0;34m\u001b[0m\u001b[0;34m\u001b[0m\u001b[0m\n\u001b[0;32m--> 147\u001b[0;31m             \u001b[0;32mraise\u001b[0m \u001b[0mFontNotFound\u001b[0m\u001b[0;34m(\u001b[0m\u001b[0mfont\u001b[0m\u001b[0;34m)\u001b[0m\u001b[0;34m\u001b[0m\u001b[0;34m\u001b[0m\u001b[0m\n\u001b[0m\u001b[1;32m    148\u001b[0m \u001b[0;34m\u001b[0m\u001b[0m\n\u001b[1;32m    149\u001b[0m     \u001b[0;34m@\u001b[0m\u001b[0mclassmethod\u001b[0m\u001b[0;34m\u001b[0m\u001b[0;34m\u001b[0m\u001b[0m\n",
      "\u001b[0;31mFontNotFound\u001b[0m: pagga"
     ]
    }
   ],
   "source": [
    "# import pyfiglet module\n",
    "import pyfiglet\n",
    "# use figlet font: 'pagga' to make a title that says 'CVEC'\n",
    "# use colorama to make the title red\n",
    "# use colorama to make the title bold\n",
    "# use colorama to center the title\n",
    "# use colorama to make the title have a background color of blue\n",
    "import colorama\n",
    "from colorama import Fore, Back, Style\n",
    "from pyfiglet import Figlet\n",
    "import time\n",
    "import sys\n",
    "\n",
    "# echo \"Hamburger\" | figlet -f cybermedium\n",
    "# echo \"Hamburger\" | figlet -f pagga\n",
    "\n",
    "f = Figlet(font='pagga')\n",
    "print(Style.BRIGHT + Back.BLUE + Fore.RED + f.renderText('CVEC'))\n",
    "# use colorama to make the title red\n",
    "# use colorama to make the title bold\n",
    "# use colorama to center the title\n",
    "# use colorama to make the title have a background color of blue\n",
    "import colorama\n",
    "from colorama import Fore, Back, Style\n",
    "from pyfiglet import Figlet\n",
    "import time\n",
    "import sys"
   ]
  },
  {
   "cell_type": "code",
   "execution_count": 1,
   "metadata": {},
   "outputs": [
    {
     "name": "stdout",
     "output_type": "stream",
     "text": [
      "\n",
      " .----------------.  .----------------.  .----------------.  .----------------. \n",
      "| .--------------. || .--------------. || .--------------. || .--------------. |\n",
      "| |  _________   | || |  _________   | || |    _______   | || |  _________   | |\n",
      "| | |  _   _  |  | || | |_   ___  |  | || |   /  ___  |  | || | |  _   _  |  | |\n",
      "| | |_/ | | \\_|  | || |   | |_  \\_|  | || |  |  (__ \\_|  | || | |_/ | | \\_|  | |\n",
      "| |     | |      | || |   |  _|  _   | || |   '.___`-.   | || |     | |      | |\n",
      "| |    _| |_     | || |  _| |___/ |  | || |  |`\\____) |  | || |    _| |_     | |\n",
      "| |   |_____|    | || | |_________|  | || |  |_______.'  | || |   |_____|    | |\n",
      "| |              | || |              | || |              | || |              | |\n",
      "| '--------------' || '--------------' || '--------------' || '--------------' |\n",
      " '----------------'  '----------------'  '----------------'  '----------------' \n",
      "\n"
     ]
    }
   ],
   "source": [
    "from art import *\n",
    "Art=text2art(\"test\",font=\"black\") # correct --> Art=text2art(\"test\",font=\"block\")\n",
    "print(Art)"
   ]
  }
 ],
 "metadata": {
  "kernelspec": {
   "display_name": "Python 3.9.6 ('dop6')",
   "language": "python",
   "name": "python3"
  },
  "language_info": {
   "codemirror_mode": {
    "name": "ipython",
    "version": 3
   },
   "file_extension": ".py",
   "mimetype": "text/x-python",
   "name": "python",
   "nbconvert_exporter": "python",
   "pygments_lexer": "ipython3",
   "version": "3.9.6"
  },
  "orig_nbformat": 4,
  "vscode": {
   "interpreter": {
    "hash": "9d4cc34ad21ebe166daba00278373ee0add7b924d3bd2da52c83d94677caa96f"
   }
  }
 },
 "nbformat": 4,
 "nbformat_minor": 2
}
